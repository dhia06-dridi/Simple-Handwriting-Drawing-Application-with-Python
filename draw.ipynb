{
 "cells": [
  {
   "cell_type": "code",
   "execution_count": 1,
   "id": "71949f94-9dcc-4538-9457-484d8a62b42a",
   "metadata": {},
   "outputs": [],
   "source": [
    "import tkinter as tk\n",
    "from PIL import Image, ImageDraw"
   ]
  },
  {
   "cell_type": "code",
   "execution_count": 2,
   "id": "31b5b819-139a-4e39-835f-a4715dad2772",
   "metadata": {},
   "outputs": [
    {
     "ename": "KeyboardInterrupt",
     "evalue": "",
     "output_type": "error",
     "traceback": [
      "\u001b[1;31m---------------------------------------------------------------------------\u001b[0m",
      "\u001b[1;31mKeyboardInterrupt\u001b[0m                         Traceback (most recent call last)",
      "Cell \u001b[1;32mIn[2], line 46\u001b[0m\n\u001b[0;32m     43\u001b[0m btn_save\u001b[38;5;241m.\u001b[39mpack(side\u001b[38;5;241m=\u001b[39mtk\u001b[38;5;241m.\u001b[39mRIGHT, padx\u001b[38;5;241m=\u001b[39m\u001b[38;5;241m10\u001b[39m)\n\u001b[0;32m     45\u001b[0m \u001b[38;5;66;03m# Lancer la fenêtre\u001b[39;00m\n\u001b[1;32m---> 46\u001b[0m root\u001b[38;5;241m.\u001b[39mmainloop()\n",
      "File \u001b[1;32mF:\\download\\anaconda\\Lib\\tkinter\\__init__.py:1485\u001b[0m, in \u001b[0;36mMisc.mainloop\u001b[1;34m(self, n)\u001b[0m\n\u001b[0;32m   1483\u001b[0m \u001b[38;5;28;01mdef\u001b[39;00m \u001b[38;5;21mmainloop\u001b[39m(\u001b[38;5;28mself\u001b[39m, n\u001b[38;5;241m=\u001b[39m\u001b[38;5;241m0\u001b[39m):\n\u001b[0;32m   1484\u001b[0m \u001b[38;5;250m    \u001b[39m\u001b[38;5;124;03m\"\"\"Call the mainloop of Tk.\"\"\"\u001b[39;00m\n\u001b[1;32m-> 1485\u001b[0m     \u001b[38;5;28mself\u001b[39m\u001b[38;5;241m.\u001b[39mtk\u001b[38;5;241m.\u001b[39mmainloop(n)\n",
      "\u001b[1;31mKeyboardInterrupt\u001b[0m: "
     ]
    }
   ],
   "source": [
    "# Dimensions du canevas\n",
    "CANVAS_WIDTH = 500\n",
    "CANVAS_HEIGHT = 500\n",
    "\n",
    "# Initialisation de la fenêtre\n",
    "root = tk.Tk()\n",
    "root.title(\"Dessinez une lettre ou un chiffre\")\n",
    "\n",
    "# Création d'une image PIL pour stocker le dessin\n",
    "image = Image.new(\"RGB\", (CANVAS_WIDTH, CANVAS_HEIGHT), \"black\")\n",
    "draw = ImageDraw.Draw(image)\n",
    "\n",
    "# Fonction pour dessiner sur le canevas\n",
    "def paint(event):\n",
    "    x1, y1 = (event.x - 5), (event.y - 5)\n",
    "    x2, y2 = (event.x + 5), (event.y + 5)\n",
    "    canvas.create_oval(x1, y1, x2, y2, fill=\"white\", outline=\"white\")\n",
    "    draw.ellipse([x1, y1, x2, y2], fill=\"white\")\n",
    "\n",
    "# Fonction pour effacer le canevas\n",
    "def clear_canvas():\n",
    "    canvas.delete(\"all\")\n",
    "    draw.rectangle([0, 0, CANVAS_WIDTH, CANVAS_HEIGHT], fill=\"black\")\n",
    "\n",
    "# Fonction pour enregistrer l'image\n",
    "def save_image():\n",
    "    filename = \"dessin.png\"\n",
    "    image.save(filename)\n",
    "    print(f\"Image enregistrée sous le nom : {filename}\")\n",
    "\n",
    "# Création du canevas\n",
    "canvas = tk.Canvas(root, width=CANVAS_WIDTH, height=CANVAS_HEIGHT, bg=\"black\")\n",
    "canvas.pack()\n",
    "\n",
    "# Lier les événements\n",
    "canvas.bind(\"<B1-Motion>\", paint)\n",
    "\n",
    "# Boutons pour effacer et sauvegarder\n",
    "btn_clear = tk.Button(root, text=\"Effacer\", command=clear_canvas)\n",
    "btn_clear.pack(side=tk.LEFT, padx=10)\n",
    "\n",
    "btn_save = tk.Button(root, text=\"Sauvegarder\", command=save_image)\n",
    "btn_save.pack(side=tk.RIGHT, padx=10)\n",
    "\n",
    "# Lancer la fenêtre\n",
    "root.mainloop()"
   ]
  },
  {
   "cell_type": "code",
   "execution_count": null,
   "id": "fc02f905-93c0-4a3c-bb39-1741b2ae18a9",
   "metadata": {},
   "outputs": [],
   "source": []
  }
 ],
 "metadata": {
  "kernelspec": {
   "display_name": "Python 3 (ipykernel)",
   "language": "python",
   "name": "python3"
  },
  "language_info": {
   "codemirror_mode": {
    "name": "ipython",
    "version": 3
   },
   "file_extension": ".py",
   "mimetype": "text/x-python",
   "name": "python",
   "nbconvert_exporter": "python",
   "pygments_lexer": "ipython3",
   "version": "3.11.7"
  }
 },
 "nbformat": 4,
 "nbformat_minor": 5
}
